{
 "cells": [
  {
   "cell_type": "code",
   "execution_count": 127,
   "id": "fe07e6e0",
   "metadata": {},
   "outputs": [],
   "source": [
    "import matplotlib.pyplot as plt\n",
    "from matplotlib.markers import MarkerStyle\n",
    "import numpy as np\n",
    "\n",
    "from ipywidgets import interact, fixed # pour les outils interactifs\n",
    "import ipywidgets as widgets"
   ]
  },
  {
   "cell_type": "code",
   "execution_count": 201,
   "id": "5652bca2",
   "metadata": {},
   "outputs": [],
   "source": [
    "plate_name = [\"A\",\"B\",\"C\"]\n",
    "az = [0,135,270]\n",
    "style = [\"fault\",\"fault\",\"fault\"]\n",
    "sign = [\"+\",\"+\",\"-\"]\n",
    "linestyle_dict={\"trench\":\"-\",\"rift\":\"-\",\"fault\":\"-\"}"
   ]
  },
  {
   "cell_type": "code",
   "execution_count": 202,
   "id": "fc30cdb5",
   "metadata": {},
   "outputs": [],
   "source": [
    "def polar2cart(r,theta):\n",
    "    rad = np.deg2rad(theta)\n",
    "    return r * np.append([np.sin(rad)],[np.cos(rad)],axis=0).T"
   ]
  },
  {
   "cell_type": "code",
   "execution_count": 176,
   "id": "b0f4b535",
   "metadata": {},
   "outputs": [
    {
     "name": "stdout",
     "output_type": "stream",
     "text": [
      "[1.41421356 0.76536686 0.76536686]\n",
      "[0.6 0.6 0.6]\n"
     ]
    }
   ],
   "source": [
    "plate_loc = (u + np.roll(u,1,axis=0)).T\n",
    "print(np.linalg.norm(plate_loc,axis=0))\n",
    "plate_loc *= 0.6 * L/ np.linalg.norm(plate_loc,axis=0)\n",
    "print(np.linalg.norm(plate_loc,axis=0))\n",
    "plate_loc = plate_loc.T"
   ]
  },
  {
   "cell_type": "code",
   "execution_count": 206,
   "id": "1e318b54",
   "metadata": {},
   "outputs": [
    {
     "data": {
      "text/plain": [
       "[0, 135, 270]"
      ]
     },
     "execution_count": 206,
     "metadata": {},
     "output_type": "execute_result"
    }
   ],
   "source": [
    "az"
   ]
  },
  {
   "cell_type": "code",
   "execution_count": 207,
   "id": "8e5d3cf9",
   "metadata": {},
   "outputs": [
    {
     "data": {
      "text/plain": [
       "array([315. ,  67.5, 202.5])"
      ]
     },
     "execution_count": 207,
     "metadata": {},
     "output_type": "execute_result"
    }
   ],
   "source": [
    "az_plate = 0.5*(az + np.roll(az,1))+[180,0,0]"
   ]
  },
  {
   "cell_type": "code",
   "execution_count": null,
   "id": "dda33cdf",
   "metadata": {},
   "outputs": [],
   "source": []
  },
  {
   "cell_type": "code",
   "execution_count": 208,
   "id": "b84e6154",
   "metadata": {},
   "outputs": [],
   "source": [
    "def plot_plates(az,style,sign):\n",
    "    L = 1\n",
    "    u = polar2cart(L,az)\n",
    "    \n",
    "    az_plate = 0.5*(az + np.roll(az,1))+[180,0,0]\n",
    "    u_plate = polar2cart(0.75,az_plate)\n",
    "    \n",
    "    for style_i, sign_i, az_i, u_i in zip(style,sign,az,u):\n",
    "        n = np.array([u_i[1], -u_i[0]])\n",
    "        if style_i == \"rift\":\n",
    "            delta = 0.02\n",
    "            plt.plot([0,u_i[0]]+delta*n[0],[0,u_i[1]]+delta*n[1],c=\"k\")\n",
    "            plt.plot([0,u_i[0]]-delta*n[0],[0,u_i[1]]-delta*n[1],c=\"k\")\n",
    "        elif style_i == \"trench\":\n",
    "            plt.plot([0,u_i[0]],[0,u_i[1]],c=\"k\")\n",
    "\n",
    "            delta = 0.02 if sign_i == \"+\" else -0.03\n",
    "            pos = np.linspace([0,0],u_i,10)[1:] + delta * n\n",
    "\n",
    "            m = MarkerStyle(\">\" if sign_i == \"+\" else \"<\")\n",
    "            m._transform.rotate_deg(-az_i)\n",
    "            plt.plot(pos[:,0],pos[:,1], c=\"k\", linestyle=\"\", marker= m)\n",
    "        elif style_i == \"fault\":\n",
    "            plt.plot([0,u_i[0]],[0,u_i[1]],c=\"k\")\n",
    "            delta = 0.05\n",
    "            sign_val = 1 if sign_i ==\"+\" else -1\n",
    "            plt.annotate(\"\",xy= 0.45*L*u_i +sign_val* delta*n, xytext= 0.65*u_i +sign_val* delta*n, arrowprops=dict(arrowstyle=\"->\"))\n",
    "            plt.annotate(\"\",xy= 0.65*L*u_i -sign_val* delta*n, xytext= 0.45*u_i -sign_val* delta*n, arrowprops=dict(arrowstyle=\"->\"))\n",
    "        else:\n",
    "            plt.plot([0,u_i[0]],[0,u_i[1]],c=\"k\")\n",
    "\n",
    "    for plate_name_i,plate_loc_i in zip(plate_name, u_plate):\n",
    "        plt.annotate(plate_name_i,xy= plate_loc_i)\n",
    "\n",
    "    plt.gca().set_aspect(\"equal\")\n",
    "    plt.gca().set_xlim(-1.2,1.2)\n",
    "    plt.gca().set_ylim(-1.2,1.2)"
   ]
  },
  {
   "cell_type": "code",
   "execution_count": 209,
   "id": "338e7608",
   "metadata": {},
   "outputs": [
    {
     "data": {
      "image/png": "[encoded data removed]",
      "text/plain": [
       "<Figure size 432x288 with 1 Axes>"
      ]
     },
     "metadata": {
      "needs_background": "light"
     },
     "output_type": "display_data"
    }
   ],
   "source": [
    "plot_plates(az, style, sign)"
   ]
  },
  {
   "cell_type": "code",
   "execution_count": 228,
   "id": "527dbbf6",
   "metadata": {},
   "outputs": [
    {
     "data": {
      "application/vnd.jupyter.widget-view+json": {
       "model_id": "5fb0fd97241c4bbe95f77b0bc80c6696",
       "version_major": 2,
       "version_minor": 0
      },
      "text/plain": [
       "interactive(children=(FloatSlider(value=0.0, continuous_update=False, description='az_AB', max=120.0, min=-75.…"
      ]
     },
     "metadata": {},
     "output_type": "display_data"
    }
   ],
   "source": [
    "az = [0,135,270]\n",
    "pad = 15\n",
    "az_AB_widget = widgets.FloatSlider(min=az[2]-360+pad,max=az[1]-pad,step=1,value=az[0], continuous_update=False)\n",
    "az_BC_widget = widgets.FloatSlider(min=az[0]+pad,max=az[2]-pad,step=1,value=az[1], continuous_update=False)\n",
    "az_AC_widget = widgets.FloatSlider(min=az[1]+pad,max=360+az[0]-pad,step=1,value=az[2], continuous_update=False)\n",
    "\n",
    "def when_AB_changes(change):\n",
    "    az_AC_widget.max = change.new +360 - pad\n",
    "    az_BC_widget.min = change.new + pad\n",
    "def when_BC_changes(change):\n",
    "    az_AB_widget.max = change.new - pad\n",
    "    az_AC_widget.min = change.new + pad\n",
    "def when_AC_changes(change):\n",
    "    az_BC_widget.max = change.new - pad\n",
    "    az_AB_widget.min = change.new - 360 + pad\n",
    "az_AB_widget.observe(when_AB_changes, names=\"value\")\n",
    "az_BC_widget.observe(when_BC_changes, names=\"value\")\n",
    "az_AC_widget.observe(when_AC_changes, names=\"value\")\n",
    "#widgets.jsdlink((az_AB_widget,\"value\"),(az_BC_widget,\"min\"))\n",
    "\n",
    "@interact(\n",
    "az_AB = az_AB_widget,\n",
    "az_BC = az_BC_widget,\n",
    "az_AC = az_AC_widget\n",
    ")\n",
    "def interact_plate(az_AB, az_BC, az_AC):\n",
    "    az= [az_AB, az_BC, az_AC]\n",
    "    plot_plates(az,style,sign)"
   ]
  },
  {
   "cell_type": "code",
   "execution_count": 224,
   "id": "2af6bb48",
   "metadata": {},
   "outputs": [
    {
     "data": {
      "text/plain": [
       "120.0"
      ]
     },
     "execution_count": 224,
     "metadata": {},
     "output_type": "execute_result"
    }
   ],
   "source": [
    "az_AB_widget.max"
   ]
  },
  {
   "cell_type": "code",
   "execution_count": null,
   "id": "fe2be5ad",
   "metadata": {},
   "outputs": [],
   "source": []
  }
 ],
 "metadata": {
  "kernelspec": {
   "display_name": "Python 3 (ipykernel)",
   "language": "python",
   "name": "python3"
  },
  "language_info": {
   "codemirror_mode": {
    "name": "ipython",
    "version": 3
   },
   "file_extension": ".py",
   "mimetype": "text/x-python",
   "name": "python",
   "nbconvert_exporter": "python",
   "pygments_lexer": "ipython3",
   "version": "3.9.7"
  }
 },
 "nbformat": 4,
 "nbformat_minor": 5
}
